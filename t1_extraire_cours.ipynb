{
  "cells": [
    {
      "cell_type": "markdown",
      "id": "fb7fbc40",
      "metadata": {
        "id": "fb7fbc40"
      },
      "source": [
        "# Tâche 1 - Extraire des informations d'un document à l'aide d'expressions régulières\n",
        "\n",
        "Pour cette tâche, on vous demande de construire un programme qui permet d’extraire le mieux possible les informations de l'offre de cours du Département d’informatique et génie logiciel.\n",
        "\n",
        "L'exemple utilisé provient à l'origine d'un fichier PDF pour la session d'automne 2023 disponible avec le lien suivant: https://www.ift.ulaval.ca/fileadmin/ift/documents/PDF/AUTOMNE_2023.pdf\n",
        "\n",
        "Vous travaillerez avec une version texte de ce fichier obtenue avec la librairie Textract.\n",
        "\n",
        "La fonction principale à programmer pour cette tâche est *extract_course_informations* qui produit en sortie la structure suivante:\n",
        "\n",
        "<pre>\n",
        "[\n",
        "  {\"Sigle\": \"GIF-1001\", \"Section\": \"H\", \"Titre\": \"Ordinateurs: structures et applications\", \"Credit\": \"3\"},     \n",
        "  {\"Sigle\": \"GIF-1003\", \"Section\": \"A\", \"Titre\": \"Programmation avancée en C++ pour ingénieurs\", \"Credit\": \"3\"},    \n",
        "     ...    \n",
        "\n",
        "  {\"Sigle\": \"IFT-7201\", \"Section\": \"Z3\", \"Titre\": \"Apprentissage par renforcement\", \"Credit\": \"3\"}    \n",
        "]\n",
        "</pre>\n",
        "\n",
        "ce qui correspond à une liste de cours offert où chacun est décrit par un dictionnaire Python contenant le sigle du cours, le type de section, son titre et son nombre de crédits.  \n",
        "\n",
        "On vous demande de documenter votre notebook pour nous permettre de comprendre votre démarche, c.-à-d. expliquer comment vous procédez pour extraire et/ou retirer et/ou assembler les informations. Vous pouvez ajouter des cellules au notebook lorsque vous le jugez nécessaire.\n",
        "\n",
        "Vous devez utiliser des expressions régulières pour extraire les informations de cours et détecter les textes non pertinents (si vous utilisez cette approche). Le reste des opérations (par ex. l'assemblage des infos) est effectué avec du code Python.  \n",
        "\n",
        "Vous pouvez ajouter autant de fonctions utilitaires que vous voulez pour cette tâche. Cependant on demande DE NE PAS MODIFIER la signature des 2 fonctions suivantes:\n",
        "- *extract_course_informations(text_list)* , retourne une liste de cours en sortie.\n",
        "- *read_course_information(text_filename)* , retourne une liste de textes (des strings).\n",
        "\n",
        "Des modifications à ces fonctions pourraient nuire à notre correction et des pénalités seront appliquées le cas échéant. \\"
      ]
    },
    {
      "cell_type": "markdown",
      "source": [],
      "metadata": {
        "collapsed": false,
        "id": "cm6yULIN1ShR"
      },
      "id": "cm6yULIN1ShR"
    },
    {
      "cell_type": "markdown",
      "id": "2254258d",
      "metadata": {
        "id": "2254258d"
      },
      "source": [
        "    ## Section 1 - Lecture du fichier d'offre de cours"
      ]
    },
    {
      "cell_type": "code",
      "execution_count": 157,
      "id": "9f93c736",
      "metadata": {
        "ExecuteTime": {
          "end_time": "2023-09-22T19:08:23.515655Z",
          "start_time": "2023-09-22T19:08:23.463298Z"
        },
        "id": "9f93c736"
      },
      "outputs": [],
      "source": [
        "def read_course_information(text_filename):\n",
        "    \"\"\"Retourne une liste de lignes de textes (des strings).\"\"\"\n",
        "    with open(text_filename, 'r', encoding='utf-8') as f:\n",
        "        text_lines = f.readlines()\n",
        "    return text_lines"
      ]
    },
    {
      "cell_type": "code",
      "execution_count": 158,
      "id": "9ffddf0c",
      "metadata": {
        "ExecuteTime": {
          "end_time": "2023-09-22T19:14:11.520711Z",
          "start_time": "2023-09-22T19:14:11.502517Z"
        },
        "id": "9ffddf0c"
      },
      "outputs": [],
      "source": [
        "course_fn = \"./data/cours_A2023.txt\"\n",
        "\n",
        "course_info = read_course_information(course_fn)"
      ]
    },
    {
      "cell_type": "markdown",
      "id": "edde7ff0",
      "metadata": {
        "id": "edde7ff0"
      },
      "source": [
        "## Section 2 - Extraction des informations de cours à partir du fichier\n",
        "\n",
        "On vous demande de mettre toutes les expressions régulières que vous utilisez dans la première cellule.\n",
        "\n",
        "Par la suite, vous pouvez ajouter toutes les fonctions utilitaires dont vous avez besoin. Et vous terminez en finalisant la fonction principale *extract_course_informations*. Vous pouvez ajouter des cellules dans le notebook.\n",
        "\n",
        "Expliquer comment vous procédez pour extraire les informations et construire la liste de cours. Une part importante de point est allouée aux explications."
      ]
    },
    {
      "cell_type": "code",
      "execution_count": 159,
      "id": "5cda51d3",
      "metadata": {
        "ExecuteTime": {
          "end_time": "2023-09-22T19:08:23.571033Z",
          "start_time": "2023-09-22T19:08:23.479038Z"
        },
        "id": "5cda51d3"
      },
      "outputs": [],
      "source": [
        "# Mettre dans cette partie les expressions régulières que vous utilisez\n",
        "\n",
        "#import re\n",
        "\n",
        "# Mettre vos regex ici...\n",
        "# corsi 1 cilco\n",
        "#(?:[A-Z]{3}-\\d{4} \\n){2,}\\n(?:.+\\n){2,}\n",
        "\n",
        "# corsi 2 e 3 ciclo\n",
        "#(?:(?:[A-Z]{3}-\\d{4} \\n)+\\n(?:[A-Z]\\w? \\n)+\\n)+(?:.+\\n){2,}\n",
        "\n",
        "#Sigla\n",
        "#----- ^([A-Z]{3}-\\d{4}) $ ----\n",
        "\n",
        "#Section\n",
        "# ---- ^([A-Z]\\w?) $ -----\n",
        "\n",
        "#Crediti\n",
        "#---- ^(\\d) ?$ ----\n",
        "\n",
        "# descrizione dopo di aver spezzato"
      ]
    },
    {
      "cell_type": "markdown",
      "id": "25f62d62",
      "metadata": {
        "id": "25f62d62"
      },
      "source": [
        "### Fonctions utilitaires\n",
        "\n",
        "À compléter si cette section vous est utile..."
      ]
    },
    {
      "cell_type": "code",
      "execution_count": 160,
      "id": "b2ddc87b",
      "metadata": {
        "ExecuteTime": {
          "end_time": "2023-09-22T19:08:23.571984Z",
          "start_time": "2023-09-22T19:08:23.484762Z"
        },
        "id": "b2ddc87b"
      },
      "outputs": [],
      "source": [
        "import re\n",
        "def split_txt(text, pattern):\n",
        "  result = [];\n",
        "  for i in range(0,len(text)):\n",
        "    rs = re.findall(pattern, text[i])\n",
        "    if(len(rs) != 0):\n",
        "      #print(rs)\n",
        "      result.append(rs.pop())\n",
        "  return result"
      ]
    },
    {
      "cell_type": "code",
      "source": [
        "#Crédit\n",
        "credit = split_txt(course_info, \"^(\\d) ?$\")\n",
        "#Sigla\n",
        "sigla = split_txt(course_info, \"^([A-Z]{3}-\\d{4}) $\")\n",
        "#section\n",
        "section = split_txt(course_info, \"^([A-Z]\\w?) $\")\n",
        "#Description\n",
        "titre = split_txt(course_info, \"^(.{10,})$\")"
      ],
      "metadata": {
        "id": "ebcJW4nTInrM"
      },
      "id": "ebcJW4nTInrM",
      "execution_count": 161,
      "outputs": []
    },
    {
      "cell_type": "code",
      "source": [
        "print(f\"description {len(titre)} credit {len(credit)} sigla {len(sigla)} section {len(section)}\")"
      ],
      "metadata": {
        "id": "oXl4dG05rDLP",
        "outputId": "7d074572-522c-4ec2-e2f3-efa079f9fa53",
        "colab": {
          "base_uri": "https://localhost:8080/"
        }
      },
      "id": "oXl4dG05rDLP",
      "execution_count": 162,
      "outputs": [
        {
          "output_type": "stream",
          "name": "stdout",
          "text": [
            "description 61 credit 48 sigla 48 section 48\n"
          ]
        }
      ]
    },
    {
      "cell_type": "code",
      "source": [
        "tr = []\n",
        "\n",
        "for i in range (0,len(titre)):\n",
        "  if((i >= 53 and i <= 60 ) or (i >= 0 and i <= 2) or i == 40):\n",
        "    print(f\"{i}.   {titre[i]}\")\n",
        "  else:\n",
        "    tr.append(titre[i])"
      ],
      "metadata": {
        "id": "DddsIiE6sjin",
        "outputId": "b32aad2b-1ccc-45ae-cea3-4bee18ec3691",
        "colab": {
          "base_uri": "https://localhost:8080/"
        }
      },
      "id": "DddsIiE6sjin",
      "execution_count": 174,
      "outputs": [
        {
          "output_type": "stream",
          "name": "stdout",
          "text": [
            "0.   Cours de 1er cycle \n",
            "1.   AUTOMNE 2023 \n",
            "2.   Cours  Sect.  Titre \n",
            "40.   Cours de 2e et 3e cycles \n",
            "53.   \fSignification des types de sections  \n",
            "54.   - A : section en classe;  \n",
            "55.   - Z1 : section à distance asynchrone;  \n",
            "56.   - Z3 : section à distance synchrone;  \n",
            "57.   - ZA : section en formule comodale; correspond à section Z3 avec possibilité d’assister à \n",
            "58.   l’enregistrement du cours dans une classe; \n",
            "59.   - H : hybride, certaines séances en présentiel, d’autres à distance. \n",
            "60.   Note : en jaune; nouveaux cours offerts à la session d’automne 2023. \n"
          ]
        }
      ]
    },
    {
      "cell_type": "code",
      "source": [
        "record = tr[46] + ' ' + tr[47]\n",
        "tr.remove(tr[47])\n",
        "titre = tr\n",
        "titre"
      ],
      "metadata": {
        "id": "OSRonGIC_jHQ"
      },
      "id": "OSRonGIC_jHQ",
      "execution_count": null,
      "outputs": []
    },
    {
      "cell_type": "code",
      "source": [
        "for i in range (0,len(titre)):\n",
        "    print(f\"{i}.   {titre[i]}\")"
      ],
      "metadata": {
        "id": "OeFG153kA4Vo",
        "outputId": "5cd95e11-1a54-4cc4-9466-65d7f98a1b2d",
        "colab": {
          "base_uri": "https://localhost:8080/"
        }
      },
      "id": "OeFG153kA4Vo",
      "execution_count": 176,
      "outputs": [
        {
          "output_type": "stream",
          "name": "stdout",
          "text": [
            "0.   Ordinateurs : structures et applications\n",
            "1.   Programmation avancée en C++ pour ingénieurs\n",
            "2.   Pratique du génie logiciel\n",
            "3.   Réseaux pour ingénieurs\n",
            "4.   Génie logiciel orienté objet\n",
            "5.   Algorithmes et structures de données pour ingénieurs\n",
            "6.   Cryptographie et sécurité informatique\n",
            "7.   Gestion de projets informatiques : méthodes et outils\n",
            "8.   Développement d'applications Web\n",
            "9.   Introduction à la robotique mobile\n",
            "10.   Qualité et métriques du logiciel\n",
            "11.   Architecture logicielle\n",
            "12.   Applications infonuagiques natives et DevOps\n",
            "13.   Bases de données avancées\n",
            "14.   Logique et techniques de preuve\n",
            "15.   Analyse et conception de systèmes d’information\n",
            "16.   Introduction à la programmation\n",
            "17.   Introduction à la programmation\n",
            "18.   Programmation avancée en C++\n",
            "19.   Pratique de l’informatique\n",
            "20.   Introduction à l’algorithmique et à la programmation\n",
            "21.   Systèmes d’exploitation\n",
            "22.   Informatique théorique\n",
            "23.   Intelligence artificielle 1\n",
            "24.   Modèles et langages des bases de données\n",
            "25.   Analyse et conception des systèmes orientés objet\n",
            "26.   Algorithmes et structures de données\n",
            "27.   Programmation de jeux vidéo\n",
            "28.   Conception et analyse d’algorithmes\n",
            "29.   Compilation et interprétation\n",
            "30.   Cyberattaques et tests d’intrusions dans les systèmes d’information \n",
            "31.   Optimisation combinatoire\n",
            "32.   Traitement automatique de la langue naturelle\n",
            "33.   Apprentissage automatique pour le traitement du signal   Nouveau cours \n",
            "34.   Apprentissage par renforcement \n",
            "35.   Mathématiques pour informaticien\n",
            "36.   Mathématiques pour informaticien\n",
            "37.   Applications infonuagiques natives et DevOps (jumelé avec GLO-4008)\n",
            "38.   Introduction à la robotique mobile (jumelé avec GLO-4001) \n",
            "39.   Bases de données avancées (jumelé avec GLO-4035)\n",
            "40.   Assurance qualité du logiciel (jumelé avec GLO-4002)\n",
            "41.   Architecture logicielle (jumelé avec GLO-4003)\n",
            "42.   Projet intégrateur \n",
            "43.   Réseaux mobiles \n",
            "44.   Optimisation combinatoire (jumelé avec IFT-4001)\n",
            "45.   Traitement automatique de la langue naturelle (jumelé avec IFT-4022)\n",
            "46.   Apprentissage automatique pour le traitement du signal Nouveau cours \n",
            "47.   Apprentissage par renforcement (jumelé avec IFT-4201)\n"
          ]
        }
      ]
    },
    {
      "cell_type": "code",
      "source": [
        "courses = {}\n",
        "def fill_camp():\n",
        "  for i in range(0,5):\n",
        "    course = {}\n",
        "    course[\"Sigle\"]=...\n",
        "    course[\"Section\"]=...\n",
        "    course[\"Titre\"]=...\n",
        "    course[\"Credit\"]=...\n",
        "    add_course(course)\n",
        "\n",
        "def add_course(user):\n",
        "  courses.append(user)"
      ],
      "metadata": {
        "id": "6uVIpJACUkap"
      },
      "id": "6uVIpJACUkap",
      "execution_count": 165,
      "outputs": []
    },
    {
      "cell_type": "markdown",
      "id": "7f00392e",
      "metadata": {
        "id": "7f00392e"
      },
      "source": [
        "### Fonction principale d'extraction d'informations\n",
        "\n",
        "À compléter..."
      ]
    },
    {
      "cell_type": "code",
      "execution_count": 166,
      "id": "89399f56",
      "metadata": {
        "ExecuteTime": {
          "end_time": "2023-09-22T19:08:23.581029Z",
          "start_time": "2023-09-22T19:08:23.499479Z"
        },
        "id": "89399f56"
      },
      "outputs": [],
      "source": [
        "def extract_course_informations(text_list):\n",
        "    # Cette fonction construit la liste de cours à partir du texte en entrée (une liste de lignes de textes).\n",
        "    # Chaque coursest un dictionnaire qui contient les informations pertinentes (sigle, section, titre, crédit).\n",
        "    #\n",
        "    # Insérez ici votre code pour la production de la liste de cours...\n",
        "\n",
        "    #------ Retirez à partir d'ici pour votre remise.----\n",
        "    # Exemple de liste de cours qui ressemble à ce que la fonction doit construire.\n",
        "    courses = [\n",
        "        {\"Sigle\": \"GIF-1001\", \"Section\": \"H\", \"Titre\": \"Ordinateurs: structures et applications\", \"Credit\": \"3\"},\n",
        "        {\"Sigle\": \"GIF-1003\", \"Section\": \"A\", \"Titre\": \"Programmation avancée en C++ pour ingénieurs\", \"Credit\": \"3\"},\n",
        "        {\"Sigle\": \"MAT-1019\", \"Section\": \"Z3\", \"Titre\": \"Mathématiques pour informaticien\", \"Credit\": \"3\"},\n",
        "        {\"Sigle\": \"GLO-7008\", \"Section\": \"A\", \"Titre\": \"Applications infonuagiques natives et DevOps\", \"Credit\": \"3\"},\n",
        "        {\"Sigle\": \"IFT-7201\", \"Section\": \"Z3\", \"Titre\": \"Apprentissage par renforcement\", \"Credit\": \"3\"}\n",
        "    ]\n",
        "    #------------ Retirez ce qui précède -----------------\n",
        "\n",
        "    return courses"
      ]
    },
    {
      "cell_type": "code",
      "execution_count": 166,
      "id": "9cd42946",
      "metadata": {
        "ExecuteTime": {
          "end_time": "2023-09-22T19:08:23.583047Z",
          "start_time": "2023-09-22T19:08:23.507150Z"
        },
        "id": "9cd42946"
      },
      "outputs": [],
      "source": []
    },
    {
      "cell_type": "markdown",
      "id": "f2770f4e",
      "metadata": {
        "id": "f2770f4e"
      },
      "source": [
        "## Section 3 - Visualisation des résultats de l'extraction d'informations"
      ]
    },
    {
      "cell_type": "code",
      "execution_count": 167,
      "id": "ae77edbf",
      "metadata": {
        "ExecuteTime": {
          "end_time": "2023-09-22T19:08:23.583492Z",
          "start_time": "2023-09-22T19:08:23.514417Z"
        },
        "id": "ae77edbf"
      },
      "outputs": [],
      "source": [
        "courses = extract_course_informations(course_info)   # La liste de cours extraites à partir du texte"
      ]
    },
    {
      "cell_type": "code",
      "execution_count": 168,
      "id": "9ea0fba9",
      "metadata": {
        "ExecuteTime": {
          "end_time": "2023-09-22T19:08:23.583728Z",
          "start_time": "2023-09-22T19:08:23.523495Z"
        },
        "colab": {
          "base_uri": "https://localhost:8080/",
          "height": 206
        },
        "id": "9ea0fba9",
        "outputId": "fd73018c-63ab-40d3-f8fe-3bd8f29e9458"
      },
      "outputs": [
        {
          "output_type": "execute_result",
          "data": {
            "text/plain": [
              "      Sigle Section                                         Titre Credit\n",
              "0  GIF-1001       H       Ordinateurs: structures et applications      3\n",
              "1  GIF-1003       A  Programmation avancée en C++ pour ingénieurs      3\n",
              "2  MAT-1019      Z3              Mathématiques pour informaticien      3\n",
              "3  GLO-7008       A  Applications infonuagiques natives et DevOps      3\n",
              "4  IFT-7201      Z3                Apprentissage par renforcement      3"
            ],
            "text/html": [
              "\n",
              "  <div id=\"df-df5055a7-90cd-47c5-8c2e-01b198008c55\" class=\"colab-df-container\">\n",
              "    <div>\n",
              "<style scoped>\n",
              "    .dataframe tbody tr th:only-of-type {\n",
              "        vertical-align: middle;\n",
              "    }\n",
              "\n",
              "    .dataframe tbody tr th {\n",
              "        vertical-align: top;\n",
              "    }\n",
              "\n",
              "    .dataframe thead th {\n",
              "        text-align: right;\n",
              "    }\n",
              "</style>\n",
              "<table border=\"1\" class=\"dataframe\">\n",
              "  <thead>\n",
              "    <tr style=\"text-align: right;\">\n",
              "      <th></th>\n",
              "      <th>Sigle</th>\n",
              "      <th>Section</th>\n",
              "      <th>Titre</th>\n",
              "      <th>Credit</th>\n",
              "    </tr>\n",
              "  </thead>\n",
              "  <tbody>\n",
              "    <tr>\n",
              "      <th>0</th>\n",
              "      <td>GIF-1001</td>\n",
              "      <td>H</td>\n",
              "      <td>Ordinateurs: structures et applications</td>\n",
              "      <td>3</td>\n",
              "    </tr>\n",
              "    <tr>\n",
              "      <th>1</th>\n",
              "      <td>GIF-1003</td>\n",
              "      <td>A</td>\n",
              "      <td>Programmation avancée en C++ pour ingénieurs</td>\n",
              "      <td>3</td>\n",
              "    </tr>\n",
              "    <tr>\n",
              "      <th>2</th>\n",
              "      <td>MAT-1019</td>\n",
              "      <td>Z3</td>\n",
              "      <td>Mathématiques pour informaticien</td>\n",
              "      <td>3</td>\n",
              "    </tr>\n",
              "    <tr>\n",
              "      <th>3</th>\n",
              "      <td>GLO-7008</td>\n",
              "      <td>A</td>\n",
              "      <td>Applications infonuagiques natives et DevOps</td>\n",
              "      <td>3</td>\n",
              "    </tr>\n",
              "    <tr>\n",
              "      <th>4</th>\n",
              "      <td>IFT-7201</td>\n",
              "      <td>Z3</td>\n",
              "      <td>Apprentissage par renforcement</td>\n",
              "      <td>3</td>\n",
              "    </tr>\n",
              "  </tbody>\n",
              "</table>\n",
              "</div>\n",
              "    <div class=\"colab-df-buttons\">\n",
              "\n",
              "  <div class=\"colab-df-container\">\n",
              "    <button class=\"colab-df-convert\" onclick=\"convertToInteractive('df-df5055a7-90cd-47c5-8c2e-01b198008c55')\"\n",
              "            title=\"Convert this dataframe to an interactive table.\"\n",
              "            style=\"display:none;\">\n",
              "\n",
              "  <svg xmlns=\"http://www.w3.org/2000/svg\" height=\"24px\" viewBox=\"0 -960 960 960\">\n",
              "    <path d=\"M120-120v-720h720v720H120Zm60-500h600v-160H180v160Zm220 220h160v-160H400v160Zm0 220h160v-160H400v160ZM180-400h160v-160H180v160Zm440 0h160v-160H620v160ZM180-180h160v-160H180v160Zm440 0h160v-160H620v160Z\"/>\n",
              "  </svg>\n",
              "    </button>\n",
              "\n",
              "  <style>\n",
              "    .colab-df-container {\n",
              "      display:flex;\n",
              "      gap: 12px;\n",
              "    }\n",
              "\n",
              "    .colab-df-convert {\n",
              "      background-color: #E8F0FE;\n",
              "      border: none;\n",
              "      border-radius: 50%;\n",
              "      cursor: pointer;\n",
              "      display: none;\n",
              "      fill: #1967D2;\n",
              "      height: 32px;\n",
              "      padding: 0 0 0 0;\n",
              "      width: 32px;\n",
              "    }\n",
              "\n",
              "    .colab-df-convert:hover {\n",
              "      background-color: #E2EBFA;\n",
              "      box-shadow: 0px 1px 2px rgba(60, 64, 67, 0.3), 0px 1px 3px 1px rgba(60, 64, 67, 0.15);\n",
              "      fill: #174EA6;\n",
              "    }\n",
              "\n",
              "    .colab-df-buttons div {\n",
              "      margin-bottom: 4px;\n",
              "    }\n",
              "\n",
              "    [theme=dark] .colab-df-convert {\n",
              "      background-color: #3B4455;\n",
              "      fill: #D2E3FC;\n",
              "    }\n",
              "\n",
              "    [theme=dark] .colab-df-convert:hover {\n",
              "      background-color: #434B5C;\n",
              "      box-shadow: 0px 1px 3px 1px rgba(0, 0, 0, 0.15);\n",
              "      filter: drop-shadow(0px 1px 2px rgba(0, 0, 0, 0.3));\n",
              "      fill: #FFFFFF;\n",
              "    }\n",
              "  </style>\n",
              "\n",
              "    <script>\n",
              "      const buttonEl =\n",
              "        document.querySelector('#df-df5055a7-90cd-47c5-8c2e-01b198008c55 button.colab-df-convert');\n",
              "      buttonEl.style.display =\n",
              "        google.colab.kernel.accessAllowed ? 'block' : 'none';\n",
              "\n",
              "      async function convertToInteractive(key) {\n",
              "        const element = document.querySelector('#df-df5055a7-90cd-47c5-8c2e-01b198008c55');\n",
              "        const dataTable =\n",
              "          await google.colab.kernel.invokeFunction('convertToInteractive',\n",
              "                                                    [key], {});\n",
              "        if (!dataTable) return;\n",
              "\n",
              "        const docLinkHtml = 'Like what you see? Visit the ' +\n",
              "          '<a target=\"_blank\" href=https://colab.research.google.com/notebooks/data_table.ipynb>data table notebook</a>'\n",
              "          + ' to learn more about interactive tables.';\n",
              "        element.innerHTML = '';\n",
              "        dataTable['output_type'] = 'display_data';\n",
              "        await google.colab.output.renderOutput(dataTable, element);\n",
              "        const docLink = document.createElement('div');\n",
              "        docLink.innerHTML = docLinkHtml;\n",
              "        element.appendChild(docLink);\n",
              "      }\n",
              "    </script>\n",
              "  </div>\n",
              "\n",
              "\n",
              "<div id=\"df-b7883307-66f2-4fc0-8bd7-ba2e658f9e89\">\n",
              "  <button class=\"colab-df-quickchart\" onclick=\"quickchart('df-b7883307-66f2-4fc0-8bd7-ba2e658f9e89')\"\n",
              "            title=\"Suggest charts.\"\n",
              "            style=\"display:none;\">\n",
              "\n",
              "<svg xmlns=\"http://www.w3.org/2000/svg\" height=\"24px\"viewBox=\"0 0 24 24\"\n",
              "     width=\"24px\">\n",
              "    <g>\n",
              "        <path d=\"M19 3H5c-1.1 0-2 .9-2 2v14c0 1.1.9 2 2 2h14c1.1 0 2-.9 2-2V5c0-1.1-.9-2-2-2zM9 17H7v-7h2v7zm4 0h-2V7h2v10zm4 0h-2v-4h2v4z\"/>\n",
              "    </g>\n",
              "</svg>\n",
              "  </button>\n",
              "\n",
              "<style>\n",
              "  .colab-df-quickchart {\n",
              "      --bg-color: #E8F0FE;\n",
              "      --fill-color: #1967D2;\n",
              "      --hover-bg-color: #E2EBFA;\n",
              "      --hover-fill-color: #174EA6;\n",
              "      --disabled-fill-color: #AAA;\n",
              "      --disabled-bg-color: #DDD;\n",
              "  }\n",
              "\n",
              "  [theme=dark] .colab-df-quickchart {\n",
              "      --bg-color: #3B4455;\n",
              "      --fill-color: #D2E3FC;\n",
              "      --hover-bg-color: #434B5C;\n",
              "      --hover-fill-color: #FFFFFF;\n",
              "      --disabled-bg-color: #3B4455;\n",
              "      --disabled-fill-color: #666;\n",
              "  }\n",
              "\n",
              "  .colab-df-quickchart {\n",
              "    background-color: var(--bg-color);\n",
              "    border: none;\n",
              "    border-radius: 50%;\n",
              "    cursor: pointer;\n",
              "    display: none;\n",
              "    fill: var(--fill-color);\n",
              "    height: 32px;\n",
              "    padding: 0;\n",
              "    width: 32px;\n",
              "  }\n",
              "\n",
              "  .colab-df-quickchart:hover {\n",
              "    background-color: var(--hover-bg-color);\n",
              "    box-shadow: 0 1px 2px rgba(60, 64, 67, 0.3), 0 1px 3px 1px rgba(60, 64, 67, 0.15);\n",
              "    fill: var(--button-hover-fill-color);\n",
              "  }\n",
              "\n",
              "  .colab-df-quickchart-complete:disabled,\n",
              "  .colab-df-quickchart-complete:disabled:hover {\n",
              "    background-color: var(--disabled-bg-color);\n",
              "    fill: var(--disabled-fill-color);\n",
              "    box-shadow: none;\n",
              "  }\n",
              "\n",
              "  .colab-df-spinner {\n",
              "    border: 2px solid var(--fill-color);\n",
              "    border-color: transparent;\n",
              "    border-bottom-color: var(--fill-color);\n",
              "    animation:\n",
              "      spin 1s steps(1) infinite;\n",
              "  }\n",
              "\n",
              "  @keyframes spin {\n",
              "    0% {\n",
              "      border-color: transparent;\n",
              "      border-bottom-color: var(--fill-color);\n",
              "      border-left-color: var(--fill-color);\n",
              "    }\n",
              "    20% {\n",
              "      border-color: transparent;\n",
              "      border-left-color: var(--fill-color);\n",
              "      border-top-color: var(--fill-color);\n",
              "    }\n",
              "    30% {\n",
              "      border-color: transparent;\n",
              "      border-left-color: var(--fill-color);\n",
              "      border-top-color: var(--fill-color);\n",
              "      border-right-color: var(--fill-color);\n",
              "    }\n",
              "    40% {\n",
              "      border-color: transparent;\n",
              "      border-right-color: var(--fill-color);\n",
              "      border-top-color: var(--fill-color);\n",
              "    }\n",
              "    60% {\n",
              "      border-color: transparent;\n",
              "      border-right-color: var(--fill-color);\n",
              "    }\n",
              "    80% {\n",
              "      border-color: transparent;\n",
              "      border-right-color: var(--fill-color);\n",
              "      border-bottom-color: var(--fill-color);\n",
              "    }\n",
              "    90% {\n",
              "      border-color: transparent;\n",
              "      border-bottom-color: var(--fill-color);\n",
              "    }\n",
              "  }\n",
              "</style>\n",
              "\n",
              "  <script>\n",
              "    async function quickchart(key) {\n",
              "      const quickchartButtonEl =\n",
              "        document.querySelector('#' + key + ' button');\n",
              "      quickchartButtonEl.disabled = true;  // To prevent multiple clicks.\n",
              "      quickchartButtonEl.classList.add('colab-df-spinner');\n",
              "      try {\n",
              "        const charts = await google.colab.kernel.invokeFunction(\n",
              "            'suggestCharts', [key], {});\n",
              "      } catch (error) {\n",
              "        console.error('Error during call to suggestCharts:', error);\n",
              "      }\n",
              "      quickchartButtonEl.classList.remove('colab-df-spinner');\n",
              "      quickchartButtonEl.classList.add('colab-df-quickchart-complete');\n",
              "    }\n",
              "    (() => {\n",
              "      let quickchartButtonEl =\n",
              "        document.querySelector('#df-b7883307-66f2-4fc0-8bd7-ba2e658f9e89 button');\n",
              "      quickchartButtonEl.style.display =\n",
              "        google.colab.kernel.accessAllowed ? 'block' : 'none';\n",
              "    })();\n",
              "  </script>\n",
              "</div>\n",
              "    </div>\n",
              "  </div>\n"
            ]
          },
          "metadata": {},
          "execution_count": 168
        }
      ],
      "source": [
        "import pandas as pd\n",
        "\n",
        "def get_dataframe(course_info):\n",
        "    return pd.DataFrame.from_dict(course_info, orient='columns', dtype=None, columns=None)\n",
        "\n",
        "df = get_dataframe(courses)\n",
        "df"
      ]
    },
    {
      "cell_type": "code",
      "execution_count": 168,
      "id": "1de2e5fa",
      "metadata": {
        "ExecuteTime": {
          "end_time": "2023-09-22T19:08:23.584154Z",
          "start_time": "2023-09-22T19:08:23.530464Z"
        },
        "id": "1de2e5fa"
      },
      "outputs": [],
      "source": []
    },
    {
      "cell_type": "markdown",
      "id": "5fadc493",
      "metadata": {
        "id": "5fadc493"
      },
      "source": [
        "## Section 4 - Évaluation de performance\n",
        "\n",
        "Évaluez la performance de votre programme dans cette section. Ceci peut être fait à la main ou par programmation selon ce qui vous convient le mieux.\n",
        "\n",
        "Résultats à présenter :\n",
        "- Nombre de sigles correctement extraits\n",
        "- Nombre de sections correctement extraites et associées au bon sigle de cours\n",
        "- Nombre de titres corrects, c.-à-d. un texte complet sans commentaires additionnels sur la nouveauté ou le jumelage\n",
        "- Nombre de titres correctement associés au sigle de cours\n",
        "- Nombre de crédits correctement associés au sigle de cours\n",
        "- Nombre de bonnes descriptions complètes de cours. Par exemple, pour l'automne 2023, il y a un total de 48 cours dans le fichier. Indiquez le nombre de cours dont tous les attributs extraits sont corrects.\n",
        "\n",
        "Analyser les erreurs effectuées par votre programme. Vous pouvez ajouter au besoin des cellules dans cette section du notebook."
      ]
    },
    {
      "cell_type": "code",
      "execution_count": 168,
      "id": "83cfe443",
      "metadata": {
        "ExecuteTime": {
          "end_time": "2023-09-22T19:08:23.584271Z",
          "start_time": "2023-09-22T19:08:23.538123Z"
        },
        "id": "83cfe443"
      },
      "outputs": [],
      "source": []
    },
    {
      "cell_type": "code",
      "execution_count": 168,
      "id": "496eb394",
      "metadata": {
        "ExecuteTime": {
          "end_time": "2023-09-22T19:08:23.584422Z",
          "start_time": "2023-09-22T19:08:23.541782Z"
        },
        "id": "496eb394"
      },
      "outputs": [],
      "source": []
    },
    {
      "cell_type": "code",
      "execution_count": 168,
      "id": "87b89178",
      "metadata": {
        "ExecuteTime": {
          "end_time": "2023-09-22T19:08:23.584552Z",
          "start_time": "2023-09-22T19:08:23.548126Z"
        },
        "id": "87b89178"
      },
      "outputs": [],
      "source": []
    },
    {
      "cell_type": "markdown",
      "id": "da6f39ea",
      "metadata": {
        "id": "da6f39ea"
      },
      "source": [
        "## Section 5 - Section réservée pour nos tests"
      ]
    },
    {
      "cell_type": "code",
      "execution_count": 168,
      "id": "abc9df02",
      "metadata": {
        "ExecuteTime": {
          "end_time": "2023-09-22T19:08:23.584643Z",
          "start_time": "2023-09-22T19:08:23.550149Z"
        },
        "id": "abc9df02"
      },
      "outputs": [],
      "source": []
    },
    {
      "cell_type": "code",
      "execution_count": 168,
      "id": "4611c578",
      "metadata": {
        "ExecuteTime": {
          "end_time": "2023-09-22T19:08:23.584766Z",
          "start_time": "2023-09-22T19:08:23.553181Z"
        },
        "id": "4611c578"
      },
      "outputs": [],
      "source": []
    },
    {
      "cell_type": "code",
      "execution_count": 168,
      "id": "14e95919",
      "metadata": {
        "ExecuteTime": {
          "end_time": "2023-09-22T19:08:23.584852Z",
          "start_time": "2023-09-22T19:08:23.556487Z"
        },
        "id": "14e95919"
      },
      "outputs": [],
      "source": []
    },
    {
      "cell_type": "code",
      "execution_count": 168,
      "id": "1ac25198",
      "metadata": {
        "ExecuteTime": {
          "end_time": "2023-09-22T19:08:23.585139Z",
          "start_time": "2023-09-22T19:08:23.559945Z"
        },
        "id": "1ac25198"
      },
      "outputs": [],
      "source": []
    }
  ],
  "metadata": {
    "kernelspec": {
      "display_name": "Python 3 (ipykernel)",
      "language": "python",
      "name": "python3"
    },
    "language_info": {
      "codemirror_mode": {
        "name": "ipython",
        "version": 3
      },
      "file_extension": ".py",
      "mimetype": "text/x-python",
      "name": "python",
      "nbconvert_exporter": "python",
      "pygments_lexer": "ipython3",
      "version": "3.8.10"
    },
    "colab": {
      "provenance": []
    }
  },
  "nbformat": 4,
  "nbformat_minor": 5
}